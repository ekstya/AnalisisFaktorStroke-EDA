{
  "nbformat": 4,
  "nbformat_minor": 0,
  "metadata": {
    "colab": {
      "name": "TA AVD.ipynb",
      "provenance": [],
      "include_colab_link": true
    },
    "kernelspec": {
      "name": "python3",
      "display_name": "Python 3"
    },
    "language_info": {
      "name": "python"
    }
  },
  "cells": [
    {
      "cell_type": "markdown",
      "metadata": {
        "id": "view-in-github",
        "colab_type": "text"
      },
      "source": [
        "<a href=\"https://colab.research.google.com/github/ekstya/AnalisisFaktorStrokewEDA/blob/main/TA_AVD.ipynb\" target=\"_parent\"><img src=\"https://colab.research.google.com/assets/colab-badge.svg\" alt=\"Open In Colab\"/></a>"
      ]
    },
    {
      "cell_type": "markdown",
      "source": [
        "# IMPORT LIBRARY"
      ],
      "metadata": {
        "id": "GbukcXU9RUUw"
      }
    },
    {
      "cell_type": "code",
      "metadata": {
        "id": "h-kqOwxpiUO2"
      },
      "source": [
        "import pandas as pd\n",
        "import numpy as np\n",
        "import seaborn as sns\n",
        "import matplotlib.pyplot as plt\n",
        "import statistics"
      ],
      "execution_count": null,
      "outputs": []
    },
    {
      "cell_type": "markdown",
      "source": [
        "# READ DATASET"
      ],
      "metadata": {
        "id": "3NVj-ectRZtn"
      }
    },
    {
      "cell_type": "code",
      "source": [
        "df = pd.read_csv('stroke-data.csv')\n",
        "df"
      ],
      "metadata": {
        "colab": {
          "base_uri": "https://localhost:8080/"
        },
        "id": "U5pK7XJg9LV9",
        "outputId": "4b915749-7ac7-41a9-af1e-6e6ff2089f6e"
      },
      "execution_count": null,
      "outputs": [
        {
          "output_type": "execute_result",
          "data": {
            "text/html": [
              "<div>\n",
              "<style scoped>\n",
              "    .dataframe tbody tr th:only-of-type {\n",
              "        vertical-align: middle;\n",
              "    }\n",
              "\n",
              "    .dataframe tbody tr th {\n",
              "        vertical-align: top;\n",
              "    }\n",
              "\n",
              "    .dataframe thead th {\n",
              "        text-align: right;\n",
              "    }\n",
              "</style>\n",
              "<table border=\"1\" class=\"dataframe\">\n",
              "  <thead>\n",
              "    <tr style=\"text-align: right;\">\n",
              "      <th></th>\n",
              "      <th>id</th>\n",
              "      <th>hypertension</th>\n",
              "      <th>heart_disease</th>\n",
              "      <th>avg_glucose_level</th>\n",
              "      <th>bmi</th>\n",
              "      <th>stroke</th>\n",
              "    </tr>\n",
              "  </thead>\n",
              "  <tbody>\n",
              "    <tr>\n",
              "      <th>0</th>\n",
              "      <td>9046</td>\n",
              "      <td>0</td>\n",
              "      <td>1</td>\n",
              "      <td>228.69</td>\n",
              "      <td>36.6</td>\n",
              "      <td>1</td>\n",
              "    </tr>\n",
              "    <tr>\n",
              "      <th>1</th>\n",
              "      <td>51676</td>\n",
              "      <td>0</td>\n",
              "      <td>0</td>\n",
              "      <td>202.21</td>\n",
              "      <td>NaN</td>\n",
              "      <td>1</td>\n",
              "    </tr>\n",
              "    <tr>\n",
              "      <th>2</th>\n",
              "      <td>31112</td>\n",
              "      <td>0</td>\n",
              "      <td>1</td>\n",
              "      <td>105.92</td>\n",
              "      <td>32.5</td>\n",
              "      <td>1</td>\n",
              "    </tr>\n",
              "    <tr>\n",
              "      <th>3</th>\n",
              "      <td>60182</td>\n",
              "      <td>0</td>\n",
              "      <td>0</td>\n",
              "      <td>171.23</td>\n",
              "      <td>34.4</td>\n",
              "      <td>1</td>\n",
              "    </tr>\n",
              "    <tr>\n",
              "      <th>4</th>\n",
              "      <td>1665</td>\n",
              "      <td>1</td>\n",
              "      <td>0</td>\n",
              "      <td>174.12</td>\n",
              "      <td>24.0</td>\n",
              "      <td>1</td>\n",
              "    </tr>\n",
              "    <tr>\n",
              "      <th>...</th>\n",
              "      <td>...</td>\n",
              "      <td>...</td>\n",
              "      <td>...</td>\n",
              "      <td>...</td>\n",
              "      <td>...</td>\n",
              "      <td>...</td>\n",
              "    </tr>\n",
              "    <tr>\n",
              "      <th>5105</th>\n",
              "      <td>18234</td>\n",
              "      <td>1</td>\n",
              "      <td>0</td>\n",
              "      <td>83.75</td>\n",
              "      <td>NaN</td>\n",
              "      <td>0</td>\n",
              "    </tr>\n",
              "    <tr>\n",
              "      <th>5106</th>\n",
              "      <td>44873</td>\n",
              "      <td>0</td>\n",
              "      <td>0</td>\n",
              "      <td>125.20</td>\n",
              "      <td>40.0</td>\n",
              "      <td>0</td>\n",
              "    </tr>\n",
              "    <tr>\n",
              "      <th>5107</th>\n",
              "      <td>19723</td>\n",
              "      <td>0</td>\n",
              "      <td>0</td>\n",
              "      <td>82.99</td>\n",
              "      <td>30.6</td>\n",
              "      <td>0</td>\n",
              "    </tr>\n",
              "    <tr>\n",
              "      <th>5108</th>\n",
              "      <td>37544</td>\n",
              "      <td>0</td>\n",
              "      <td>0</td>\n",
              "      <td>166.29</td>\n",
              "      <td>25.6</td>\n",
              "      <td>0</td>\n",
              "    </tr>\n",
              "    <tr>\n",
              "      <th>5109</th>\n",
              "      <td>44679</td>\n",
              "      <td>0</td>\n",
              "      <td>0</td>\n",
              "      <td>85.28</td>\n",
              "      <td>26.2</td>\n",
              "      <td>0</td>\n",
              "    </tr>\n",
              "  </tbody>\n",
              "</table>\n",
              "<p>5110 rows × 6 columns</p>\n",
              "</div>"
            ],
            "text/plain": [
              "         id  hypertension  heart_disease  avg_glucose_level   bmi  stroke\n",
              "0      9046             0              1             228.69  36.6       1\n",
              "1     51676             0              0             202.21   NaN       1\n",
              "2     31112             0              1             105.92  32.5       1\n",
              "3     60182             0              0             171.23  34.4       1\n",
              "4      1665             1              0             174.12  24.0       1\n",
              "...     ...           ...            ...                ...   ...     ...\n",
              "5105  18234             1              0              83.75   NaN       0\n",
              "5106  44873             0              0             125.20  40.0       0\n",
              "5107  19723             0              0              82.99  30.6       0\n",
              "5108  37544             0              0             166.29  25.6       0\n",
              "5109  44679             0              0              85.28  26.2       0\n",
              "\n",
              "[5110 rows x 6 columns]"
            ]
          },
          "metadata": {},
          "execution_count": 2
        }
      ]
    },
    {
      "cell_type": "code",
      "source": [
        "df.describe()"
      ],
      "metadata": {
        "colab": {
          "base_uri": "https://localhost:8080/"
        },
        "id": "00hJFGLfMxmb",
        "outputId": "692e7cbd-ae77-45fd-8209-2d663e0addbc"
      },
      "execution_count": null,
      "outputs": [
        {
          "output_type": "execute_result",
          "data": {
            "text/html": [
              "<div>\n",
              "<style scoped>\n",
              "    .dataframe tbody tr th:only-of-type {\n",
              "        vertical-align: middle;\n",
              "    }\n",
              "\n",
              "    .dataframe tbody tr th {\n",
              "        vertical-align: top;\n",
              "    }\n",
              "\n",
              "    .dataframe thead th {\n",
              "        text-align: right;\n",
              "    }\n",
              "</style>\n",
              "<table border=\"1\" class=\"dataframe\">\n",
              "  <thead>\n",
              "    <tr style=\"text-align: right;\">\n",
              "      <th></th>\n",
              "      <th>id</th>\n",
              "      <th>hypertension</th>\n",
              "      <th>heart_disease</th>\n",
              "      <th>avg_glucose_level</th>\n",
              "      <th>bmi</th>\n",
              "      <th>stroke</th>\n",
              "    </tr>\n",
              "  </thead>\n",
              "  <tbody>\n",
              "    <tr>\n",
              "      <th>count</th>\n",
              "      <td>5110.000000</td>\n",
              "      <td>5110.000000</td>\n",
              "      <td>5110.000000</td>\n",
              "      <td>5110.000000</td>\n",
              "      <td>4909.000000</td>\n",
              "      <td>5110.000000</td>\n",
              "    </tr>\n",
              "    <tr>\n",
              "      <th>mean</th>\n",
              "      <td>36517.829354</td>\n",
              "      <td>0.097456</td>\n",
              "      <td>0.054012</td>\n",
              "      <td>106.147677</td>\n",
              "      <td>28.893237</td>\n",
              "      <td>0.048728</td>\n",
              "    </tr>\n",
              "    <tr>\n",
              "      <th>std</th>\n",
              "      <td>21161.721625</td>\n",
              "      <td>0.296607</td>\n",
              "      <td>0.226063</td>\n",
              "      <td>45.283560</td>\n",
              "      <td>7.854067</td>\n",
              "      <td>0.215320</td>\n",
              "    </tr>\n",
              "    <tr>\n",
              "      <th>min</th>\n",
              "      <td>67.000000</td>\n",
              "      <td>0.000000</td>\n",
              "      <td>0.000000</td>\n",
              "      <td>55.120000</td>\n",
              "      <td>10.300000</td>\n",
              "      <td>0.000000</td>\n",
              "    </tr>\n",
              "    <tr>\n",
              "      <th>25%</th>\n",
              "      <td>17741.250000</td>\n",
              "      <td>0.000000</td>\n",
              "      <td>0.000000</td>\n",
              "      <td>77.245000</td>\n",
              "      <td>23.500000</td>\n",
              "      <td>0.000000</td>\n",
              "    </tr>\n",
              "    <tr>\n",
              "      <th>50%</th>\n",
              "      <td>36932.000000</td>\n",
              "      <td>0.000000</td>\n",
              "      <td>0.000000</td>\n",
              "      <td>91.885000</td>\n",
              "      <td>28.100000</td>\n",
              "      <td>0.000000</td>\n",
              "    </tr>\n",
              "    <tr>\n",
              "      <th>75%</th>\n",
              "      <td>54682.000000</td>\n",
              "      <td>0.000000</td>\n",
              "      <td>0.000000</td>\n",
              "      <td>114.090000</td>\n",
              "      <td>33.100000</td>\n",
              "      <td>0.000000</td>\n",
              "    </tr>\n",
              "    <tr>\n",
              "      <th>max</th>\n",
              "      <td>72940.000000</td>\n",
              "      <td>1.000000</td>\n",
              "      <td>1.000000</td>\n",
              "      <td>271.740000</td>\n",
              "      <td>97.600000</td>\n",
              "      <td>1.000000</td>\n",
              "    </tr>\n",
              "  </tbody>\n",
              "</table>\n",
              "</div>"
            ],
            "text/plain": [
              "                 id  hypertension  ...          bmi       stroke\n",
              "count   5110.000000   5110.000000  ...  4909.000000  5110.000000\n",
              "mean   36517.829354      0.097456  ...    28.893237     0.048728\n",
              "std    21161.721625      0.296607  ...     7.854067     0.215320\n",
              "min       67.000000      0.000000  ...    10.300000     0.000000\n",
              "25%    17741.250000      0.000000  ...    23.500000     0.000000\n",
              "50%    36932.000000      0.000000  ...    28.100000     0.000000\n",
              "75%    54682.000000      0.000000  ...    33.100000     0.000000\n",
              "max    72940.000000      1.000000  ...    97.600000     1.000000\n",
              "\n",
              "[8 rows x 6 columns]"
            ]
          },
          "metadata": {},
          "execution_count": 3
        }
      ]
    },
    {
      "cell_type": "markdown",
      "source": [
        "# HANDLING MISSING VALUE"
      ],
      "metadata": {
        "id": "YY-C0XiWRd1U"
      }
    },
    {
      "cell_type": "markdown",
      "source": [
        "## Check Missing Value"
      ],
      "metadata": {
        "id": "DXnC3KwLRwXU"
      }
    },
    {
      "cell_type": "code",
      "source": [
        "df['bmi'].isnull().value_counts()"
      ],
      "metadata": {
        "id": "FnINwUMrAkqE",
        "outputId": "3737bcaa-b422-4ad2-fc0c-e5b53727d53b",
        "colab": {
          "base_uri": "https://localhost:8080/"
        }
      },
      "execution_count": null,
      "outputs": [
        {
          "output_type": "execute_result",
          "data": {
            "text/plain": [
              "False    4909\n",
              "True      201\n",
              "Name: bmi, dtype: int64"
            ]
          },
          "metadata": {},
          "execution_count": 4
        }
      ]
    },
    {
      "cell_type": "markdown",
      "source": [
        "## Fill Missing Value with Mean"
      ],
      "metadata": {
        "id": "Ami53vP_R1ca"
      }
    },
    {
      "cell_type": "code",
      "source": [
        "df['bmi']=df['bmi'].replace(np.NaN, df['bmi'].mean())\n",
        "df"
      ],
      "metadata": {
        "id": "FOujWZPTQuHL",
        "colab": {
          "base_uri": "https://localhost:8080/"
        },
        "outputId": "e5c437db-264d-4df3-b43f-f9f47fd11134"
      },
      "execution_count": null,
      "outputs": [
        {
          "output_type": "execute_result",
          "data": {
            "text/html": [
              "<div>\n",
              "<style scoped>\n",
              "    .dataframe tbody tr th:only-of-type {\n",
              "        vertical-align: middle;\n",
              "    }\n",
              "\n",
              "    .dataframe tbody tr th {\n",
              "        vertical-align: top;\n",
              "    }\n",
              "\n",
              "    .dataframe thead th {\n",
              "        text-align: right;\n",
              "    }\n",
              "</style>\n",
              "<table border=\"1\" class=\"dataframe\">\n",
              "  <thead>\n",
              "    <tr style=\"text-align: right;\">\n",
              "      <th></th>\n",
              "      <th>id</th>\n",
              "      <th>hypertension</th>\n",
              "      <th>heart_disease</th>\n",
              "      <th>avg_glucose_level</th>\n",
              "      <th>bmi</th>\n",
              "      <th>stroke</th>\n",
              "    </tr>\n",
              "  </thead>\n",
              "  <tbody>\n",
              "    <tr>\n",
              "      <th>0</th>\n",
              "      <td>9046</td>\n",
              "      <td>0</td>\n",
              "      <td>1</td>\n",
              "      <td>228.69</td>\n",
              "      <td>36.600000</td>\n",
              "      <td>1</td>\n",
              "    </tr>\n",
              "    <tr>\n",
              "      <th>1</th>\n",
              "      <td>51676</td>\n",
              "      <td>0</td>\n",
              "      <td>0</td>\n",
              "      <td>202.21</td>\n",
              "      <td>28.893237</td>\n",
              "      <td>1</td>\n",
              "    </tr>\n",
              "    <tr>\n",
              "      <th>2</th>\n",
              "      <td>31112</td>\n",
              "      <td>0</td>\n",
              "      <td>1</td>\n",
              "      <td>105.92</td>\n",
              "      <td>32.500000</td>\n",
              "      <td>1</td>\n",
              "    </tr>\n",
              "    <tr>\n",
              "      <th>3</th>\n",
              "      <td>60182</td>\n",
              "      <td>0</td>\n",
              "      <td>0</td>\n",
              "      <td>171.23</td>\n",
              "      <td>34.400000</td>\n",
              "      <td>1</td>\n",
              "    </tr>\n",
              "    <tr>\n",
              "      <th>4</th>\n",
              "      <td>1665</td>\n",
              "      <td>1</td>\n",
              "      <td>0</td>\n",
              "      <td>174.12</td>\n",
              "      <td>24.000000</td>\n",
              "      <td>1</td>\n",
              "    </tr>\n",
              "    <tr>\n",
              "      <th>...</th>\n",
              "      <td>...</td>\n",
              "      <td>...</td>\n",
              "      <td>...</td>\n",
              "      <td>...</td>\n",
              "      <td>...</td>\n",
              "      <td>...</td>\n",
              "    </tr>\n",
              "    <tr>\n",
              "      <th>5105</th>\n",
              "      <td>18234</td>\n",
              "      <td>1</td>\n",
              "      <td>0</td>\n",
              "      <td>83.75</td>\n",
              "      <td>28.893237</td>\n",
              "      <td>0</td>\n",
              "    </tr>\n",
              "    <tr>\n",
              "      <th>5106</th>\n",
              "      <td>44873</td>\n",
              "      <td>0</td>\n",
              "      <td>0</td>\n",
              "      <td>125.20</td>\n",
              "      <td>40.000000</td>\n",
              "      <td>0</td>\n",
              "    </tr>\n",
              "    <tr>\n",
              "      <th>5107</th>\n",
              "      <td>19723</td>\n",
              "      <td>0</td>\n",
              "      <td>0</td>\n",
              "      <td>82.99</td>\n",
              "      <td>30.600000</td>\n",
              "      <td>0</td>\n",
              "    </tr>\n",
              "    <tr>\n",
              "      <th>5108</th>\n",
              "      <td>37544</td>\n",
              "      <td>0</td>\n",
              "      <td>0</td>\n",
              "      <td>166.29</td>\n",
              "      <td>25.600000</td>\n",
              "      <td>0</td>\n",
              "    </tr>\n",
              "    <tr>\n",
              "      <th>5109</th>\n",
              "      <td>44679</td>\n",
              "      <td>0</td>\n",
              "      <td>0</td>\n",
              "      <td>85.28</td>\n",
              "      <td>26.200000</td>\n",
              "      <td>0</td>\n",
              "    </tr>\n",
              "  </tbody>\n",
              "</table>\n",
              "<p>5110 rows × 6 columns</p>\n",
              "</div>"
            ],
            "text/plain": [
              "         id  hypertension  heart_disease  avg_glucose_level        bmi  stroke\n",
              "0      9046             0              1             228.69  36.600000       1\n",
              "1     51676             0              0             202.21  28.893237       1\n",
              "2     31112             0              1             105.92  32.500000       1\n",
              "3     60182             0              0             171.23  34.400000       1\n",
              "4      1665             1              0             174.12  24.000000       1\n",
              "...     ...           ...            ...                ...        ...     ...\n",
              "5105  18234             1              0              83.75  28.893237       0\n",
              "5106  44873             0              0             125.20  40.000000       0\n",
              "5107  19723             0              0              82.99  30.600000       0\n",
              "5108  37544             0              0             166.29  25.600000       0\n",
              "5109  44679             0              0              85.28  26.200000       0\n",
              "\n",
              "[5110 rows x 6 columns]"
            ]
          },
          "metadata": {},
          "execution_count": 5
        }
      ]
    },
    {
      "cell_type": "markdown",
      "source": [
        "# Correlation Map"
      ],
      "metadata": {
        "id": "DmirA5cL__11"
      }
    },
    {
      "cell_type": "code",
      "source": [
        "corr_data = df.corr()\n",
        "sns.clustermap(corr_data,annot= True,fmt = '.2f')\n",
        "plt.title('Correlation Between Variables')\n",
        "plt.show();"
      ],
      "metadata": {
        "colab": {
          "base_uri": "https://localhost:8080/",
          "height": 742
        },
        "id": "Q1nzoZEiw9qM",
        "outputId": "7323eefc-8e12-4c7d-cab5-63cbfb1daf56"
      },
      "execution_count": null,
      "outputs": [
        {
          "output_type": "display_data",
          "data": {
            "image/png": "[encoded data removed]",
            "text/plain": [
              "<Figure size 720x720 with 4 Axes>"
            ]
          },
          "metadata": {
            "needs_background": "light"
          }
        }
      ]
    },
    {
      "cell_type": "markdown",
      "source": [
        "# PIE CHART"
      ],
      "metadata": {
        "id": "PagpaKspRjdR"
      }
    },
    {
      "cell_type": "markdown",
      "source": [
        "## Persentase Hipertensi(1) Stroke (0/1)"
      ],
      "metadata": {
        "id": "Z1ZYQVTTR7Ei"
      }
    },
    {
      "cell_type": "code",
      "source": [
        "hp = df['hypertension']==1\n",
        "hyper = df[hp]\n",
        "hyper"
      ],
      "metadata": {
        "id": "scNIbXh_Runn",
        "colab": {
          "base_uri": "https://localhost:8080/"
        },
        "outputId": "2d3dca28-6b7a-4744-f311-3421eab018fd"
      },
      "execution_count": null,
      "outputs": [
        {
          "output_type": "execute_result",
          "data": {
            "text/html": [
              "<div>\n",
              "<style scoped>\n",
              "    .dataframe tbody tr th:only-of-type {\n",
              "        vertical-align: middle;\n",
              "    }\n",
              "\n",
              "    .dataframe tbody tr th {\n",
              "        vertical-align: top;\n",
              "    }\n",
              "\n",
              "    .dataframe thead th {\n",
              "        text-align: right;\n",
              "    }\n",
              "</style>\n",
              "<table border=\"1\" class=\"dataframe\">\n",
              "  <thead>\n",
              "    <tr style=\"text-align: right;\">\n",
              "      <th></th>\n",
              "      <th>id</th>\n",
              "      <th>hypertension</th>\n",
              "      <th>heart_disease</th>\n",
              "      <th>avg_glucose_level</th>\n",
              "      <th>bmi</th>\n",
              "      <th>stroke</th>\n",
              "    </tr>\n",
              "  </thead>\n",
              "  <tbody>\n",
              "    <tr>\n",
              "      <th>4</th>\n",
              "      <td>1665</td>\n",
              "      <td>1</td>\n",
              "      <td>0</td>\n",
              "      <td>174.12</td>\n",
              "      <td>24.000000</td>\n",
              "      <td>1</td>\n",
              "    </tr>\n",
              "    <tr>\n",
              "      <th>6</th>\n",
              "      <td>53882</td>\n",
              "      <td>1</td>\n",
              "      <td>1</td>\n",
              "      <td>70.09</td>\n",
              "      <td>27.400000</td>\n",
              "      <td>1</td>\n",
              "    </tr>\n",
              "    <tr>\n",
              "      <th>10</th>\n",
              "      <td>12109</td>\n",
              "      <td>1</td>\n",
              "      <td>0</td>\n",
              "      <td>80.43</td>\n",
              "      <td>29.700000</td>\n",
              "      <td>1</td>\n",
              "    </tr>\n",
              "    <tr>\n",
              "      <th>15</th>\n",
              "      <td>58202</td>\n",
              "      <td>1</td>\n",
              "      <td>0</td>\n",
              "      <td>167.41</td>\n",
              "      <td>30.900000</td>\n",
              "      <td>1</td>\n",
              "    </tr>\n",
              "    <tr>\n",
              "      <th>17</th>\n",
              "      <td>34120</td>\n",
              "      <td>1</td>\n",
              "      <td>0</td>\n",
              "      <td>221.29</td>\n",
              "      <td>25.800000</td>\n",
              "      <td>1</td>\n",
              "    </tr>\n",
              "    <tr>\n",
              "      <th>...</th>\n",
              "      <td>...</td>\n",
              "      <td>...</td>\n",
              "      <td>...</td>\n",
              "      <td>...</td>\n",
              "      <td>...</td>\n",
              "      <td>...</td>\n",
              "    </tr>\n",
              "    <tr>\n",
              "      <th>5088</th>\n",
              "      <td>22190</td>\n",
              "      <td>1</td>\n",
              "      <td>0</td>\n",
              "      <td>76.89</td>\n",
              "      <td>30.200000</td>\n",
              "      <td>0</td>\n",
              "    </tr>\n",
              "    <tr>\n",
              "      <th>5091</th>\n",
              "      <td>6369</td>\n",
              "      <td>1</td>\n",
              "      <td>0</td>\n",
              "      <td>95.05</td>\n",
              "      <td>30.900000</td>\n",
              "      <td>0</td>\n",
              "    </tr>\n",
              "    <tr>\n",
              "      <th>5093</th>\n",
              "      <td>32235</td>\n",
              "      <td>1</td>\n",
              "      <td>0</td>\n",
              "      <td>95.02</td>\n",
              "      <td>28.893237</td>\n",
              "      <td>0</td>\n",
              "    </tr>\n",
              "    <tr>\n",
              "      <th>5100</th>\n",
              "      <td>68398</td>\n",
              "      <td>1</td>\n",
              "      <td>0</td>\n",
              "      <td>71.97</td>\n",
              "      <td>28.300000</td>\n",
              "      <td>0</td>\n",
              "    </tr>\n",
              "    <tr>\n",
              "      <th>5105</th>\n",
              "      <td>18234</td>\n",
              "      <td>1</td>\n",
              "      <td>0</td>\n",
              "      <td>83.75</td>\n",
              "      <td>28.893237</td>\n",
              "      <td>0</td>\n",
              "    </tr>\n",
              "  </tbody>\n",
              "</table>\n",
              "<p>498 rows × 6 columns</p>\n",
              "</div>"
            ],
            "text/plain": [
              "         id  hypertension  heart_disease  avg_glucose_level        bmi  stroke\n",
              "4      1665             1              0             174.12  24.000000       1\n",
              "6     53882             1              1              70.09  27.400000       1\n",
              "10    12109             1              0              80.43  29.700000       1\n",
              "15    58202             1              0             167.41  30.900000       1\n",
              "17    34120             1              0             221.29  25.800000       1\n",
              "...     ...           ...            ...                ...        ...     ...\n",
              "5088  22190             1              0              76.89  30.200000       0\n",
              "5091   6369             1              0              95.05  30.900000       0\n",
              "5093  32235             1              0              95.02  28.893237       0\n",
              "5100  68398             1              0              71.97  28.300000       0\n",
              "5105  18234             1              0              83.75  28.893237       0\n",
              "\n",
              "[498 rows x 6 columns]"
            ]
          },
          "metadata": {},
          "execution_count": 7
        }
      ]
    },
    {
      "cell_type": "code",
      "source": [
        "#data\n",
        "labels = ['STROKE', 'NOT STROKE']\n",
        "sizes = [len(hyper[df.stroke == 1]),len(hyper[df.stroke == 0])]\n",
        "\n",
        "#colors\n",
        "colors = ['#ECB390', '#D4E2D4']\n",
        "\n",
        "# Set Pie chart\n",
        "fig1, ax1 = plt.subplots(figsize=(10,8), dpi=70)\n",
        "patches, texts, autotexts = ax1.pie(sizes, colors = colors, labels=labels, autopct='%1.2f%%', pctdistance=0.70, startangle=-24.5, \n",
        "        textprops={\n",
        "        'fontsize' : 13,\n",
        "        'fontweight' : 'bold',\n",
        "        'fontname' : 'Poppins'})\n",
        "for text in texts:\n",
        "    text.set_color('#222831')\n",
        "for autotext in autotexts:\n",
        "    autotext.set_color('#21243D')\n",
        "\n",
        "#tittle\n",
        "plt.suptitle(\"Stroke Throught Hypertention\",\n",
        "           fontname='Poppins', fontsize=24, fontweight = 'bold')\n",
        "# plt.text(1, 2, 'matplotlib adalah manusia biasa, yang tak sempurna \\ndan kadang salah', horizontalalignment='center',\n",
        "#      verticalalignment='center', transform=ax.transAxes, fontsize=14, fontweight = 'normal', color='#222831')\n",
        "plt.title(\"Perbandingan antara pengidap darah tinggi terhadap stroke\",fontname='Poppins', fontsize=14, fontweight = 'normal', color='grey')\n",
        "\n",
        "#legend\n",
        "plt.legend([\"STROKE\", \"NOT STROKE\"], loc= 'upper center', bbox_to_anchor=(0.1, 0.1), frameon=True)\n",
        "\n",
        "#draw circle\n",
        "centre_circle = plt.Circle((0,0),0.40,fc='white')\n",
        "fig = plt.gcf()\n",
        "fig.gca().add_artist(centre_circle)\n",
        "\n",
        "# Equal aspect ratio ensures that pie is drawn as a circle\n",
        "ax1.axis('equal')  \n",
        "plt.style.use('seaborn-colorblind')\n",
        "plt.show()"
      ],
      "metadata": {
        "colab": {
          "base_uri": "https://localhost:8080/"
        },
        "id": "oh3PfM1h7Zpz",
        "outputId": "03de79ab-18c2-45a9-87ec-88577a6df573"
      },
      "execution_count": null,
      "outputs": [
        {
          "output_type": "stream",
          "name": "stderr",
          "text": [
            "/usr/local/lib/python3.7/dist-packages/ipykernel_launcher.py:3: UserWarning: Boolean Series key will be reindexed to match DataFrame index.\n",
            "  This is separate from the ipykernel package so we can avoid doing imports until\n",
            "/usr/local/lib/python3.7/dist-packages/ipykernel_launcher.py:3: UserWarning: Boolean Series key will be reindexed to match DataFrame index.\n",
            "  This is separate from the ipykernel package so we can avoid doing imports until\n",
            "findfont: Font family ['Poppins'] not found. Falling back to DejaVu Sans.\n",
            "findfont: Font family ['Poppins'] not found. Falling back to DejaVu Sans.\n",
            "findfont: Font family ['Poppins'] not found. Falling back to DejaVu Sans.\n"
          ]
        },
        {
          "output_type": "display_data",
          "data": {
            "image/png": "[encoded data removed]",
            "text/plain": [
              "<Figure size 700x560 with 1 Axes>"
            ]
          },
          "metadata": {}
        }
      ]
    },
    {
      "cell_type": "markdown",
      "source": [
        ""
      ],
      "metadata": {
        "id": "-Xxv5SIfNSF_"
      }
    },
    {
      "cell_type": "code",
      "source": [
        "st=df['stroke']==1\n",
        "stroke = df[st]\n",
        "stroke"
      ],
      "metadata": {
        "colab": {
          "base_uri": "https://localhost:8080/"
        },
        "id": "enjqaEq77mBk",
        "outputId": "5d642020-2495-4e15-86f6-7dffc98b9eb5"
      },
      "execution_count": null,
      "outputs": [
        {
          "output_type": "execute_result",
          "data": {
            "text/html": [
              "<div>\n",
              "<style scoped>\n",
              "    .dataframe tbody tr th:only-of-type {\n",
              "        vertical-align: middle;\n",
              "    }\n",
              "\n",
              "    .dataframe tbody tr th {\n",
              "        vertical-align: top;\n",
              "    }\n",
              "\n",
              "    .dataframe thead th {\n",
              "        text-align: right;\n",
              "    }\n",
              "</style>\n",
              "<table border=\"1\" class=\"dataframe\">\n",
              "  <thead>\n",
              "    <tr style=\"text-align: right;\">\n",
              "      <th></th>\n",
              "      <th>id</th>\n",
              "      <th>hypertension</th>\n",
              "      <th>heart_disease</th>\n",
              "      <th>avg_glucose_level</th>\n",
              "      <th>bmi</th>\n",
              "      <th>stroke</th>\n",
              "    </tr>\n",
              "  </thead>\n",
              "  <tbody>\n",
              "    <tr>\n",
              "      <th>0</th>\n",
              "      <td>9046</td>\n",
              "      <td>0</td>\n",
              "      <td>1</td>\n",
              "      <td>228.69</td>\n",
              "      <td>36.600000</td>\n",
              "      <td>1</td>\n",
              "    </tr>\n",
              "    <tr>\n",
              "      <th>1</th>\n",
              "      <td>51676</td>\n",
              "      <td>0</td>\n",
              "      <td>0</td>\n",
              "      <td>202.21</td>\n",
              "      <td>28.893237</td>\n",
              "      <td>1</td>\n",
              "    </tr>\n",
              "    <tr>\n",
              "      <th>2</th>\n",
              "      <td>31112</td>\n",
              "      <td>0</td>\n",
              "      <td>1</td>\n",
              "      <td>105.92</td>\n",
              "      <td>32.500000</td>\n",
              "      <td>1</td>\n",
              "    </tr>\n",
              "    <tr>\n",
              "      <th>3</th>\n",
              "      <td>60182</td>\n",
              "      <td>0</td>\n",
              "      <td>0</td>\n",
              "      <td>171.23</td>\n",
              "      <td>34.400000</td>\n",
              "      <td>1</td>\n",
              "    </tr>\n",
              "    <tr>\n",
              "      <th>4</th>\n",
              "      <td>1665</td>\n",
              "      <td>1</td>\n",
              "      <td>0</td>\n",
              "      <td>174.12</td>\n",
              "      <td>24.000000</td>\n",
              "      <td>1</td>\n",
              "    </tr>\n",
              "    <tr>\n",
              "      <th>...</th>\n",
              "      <td>...</td>\n",
              "      <td>...</td>\n",
              "      <td>...</td>\n",
              "      <td>...</td>\n",
              "      <td>...</td>\n",
              "      <td>...</td>\n",
              "    </tr>\n",
              "    <tr>\n",
              "      <th>244</th>\n",
              "      <td>17739</td>\n",
              "      <td>0</td>\n",
              "      <td>0</td>\n",
              "      <td>84.96</td>\n",
              "      <td>36.700000</td>\n",
              "      <td>1</td>\n",
              "    </tr>\n",
              "    <tr>\n",
              "      <th>245</th>\n",
              "      <td>49669</td>\n",
              "      <td>0</td>\n",
              "      <td>0</td>\n",
              "      <td>57.93</td>\n",
              "      <td>30.900000</td>\n",
              "      <td>1</td>\n",
              "    </tr>\n",
              "    <tr>\n",
              "      <th>246</th>\n",
              "      <td>27153</td>\n",
              "      <td>0</td>\n",
              "      <td>0</td>\n",
              "      <td>78.80</td>\n",
              "      <td>29.300000</td>\n",
              "      <td>1</td>\n",
              "    </tr>\n",
              "    <tr>\n",
              "      <th>247</th>\n",
              "      <td>34060</td>\n",
              "      <td>1</td>\n",
              "      <td>0</td>\n",
              "      <td>87.80</td>\n",
              "      <td>28.893237</td>\n",
              "      <td>1</td>\n",
              "    </tr>\n",
              "    <tr>\n",
              "      <th>248</th>\n",
              "      <td>43424</td>\n",
              "      <td>0</td>\n",
              "      <td>0</td>\n",
              "      <td>78.81</td>\n",
              "      <td>19.600000</td>\n",
              "      <td>1</td>\n",
              "    </tr>\n",
              "  </tbody>\n",
              "</table>\n",
              "<p>249 rows × 6 columns</p>\n",
              "</div>"
            ],
            "text/plain": [
              "        id  hypertension  heart_disease  avg_glucose_level        bmi  stroke\n",
              "0     9046             0              1             228.69  36.600000       1\n",
              "1    51676             0              0             202.21  28.893237       1\n",
              "2    31112             0              1             105.92  32.500000       1\n",
              "3    60182             0              0             171.23  34.400000       1\n",
              "4     1665             1              0             174.12  24.000000       1\n",
              "..     ...           ...            ...                ...        ...     ...\n",
              "244  17739             0              0              84.96  36.700000       1\n",
              "245  49669             0              0              57.93  30.900000       1\n",
              "246  27153             0              0              78.80  29.300000       1\n",
              "247  34060             1              0              87.80  28.893237       1\n",
              "248  43424             0              0              78.81  19.600000       1\n",
              "\n",
              "[249 rows x 6 columns]"
            ]
          },
          "metadata": {},
          "execution_count": 9
        }
      ]
    },
    {
      "cell_type": "code",
      "source": [
        "#data\n",
        "labels = ['Hypertension','Not Hypertension']\n",
        "sizes = [len(stroke[df.hypertension == 1]),len(stroke[df.hypertension == 0])]\n",
        "\n",
        "#colors\n",
        "colors = ['#EDC988','#F8EFD4']\n",
        "\n",
        "# Set Pie chart\n",
        "fig1, ax1 = plt.subplots(figsize=(10,8), dpi=70)\n",
        "patches, texts, autotexts = ax1.pie(sizes, colors = colors, labels=labels, autopct='%1.2f%%', pctdistance=0.70, explode=(0, 0.060),startangle=-48.5, \n",
        "        textprops={\n",
        "        'fontsize' : 13,\n",
        "        'fontweight' : 'bold',\n",
        "        'fontname' : 'Poppins'})\n",
        "for text in texts:\n",
        "    text.set_color('#222831')\n",
        "for autotext in autotexts:\n",
        "    autotext.set_color('#21243D')\n",
        "\n",
        "#tittle\n",
        "plt.suptitle(\"Stroke Based On Hypertension\",\n",
        "           fontname='Poppins', fontsize=24, fontweight = 'bold')\n",
        "# plt.text(1, 2, 'matplotlib adalah manusia biasa, yang tak sempurna \\ndan kadang salah', horizontalalignment='center',\n",
        "#      verticalalignment='center', transform=ax.transAxes, fontsize=14, fontweight = 'normal', color='#222831')\n",
        "plt.title(\"Perbandingan antara pengidap stroke berdasarkan tekanan darah\",fontname='Poppins', fontsize=14, fontweight = 'normal', color='grey')\n",
        "\n",
        "#legend\n",
        "plt.legend(['Hypertension','Not Hypertension'], loc= 'upper center', bbox_to_anchor=(0.1, 0.1), frameon=True)\n",
        "\n",
        "#draw circle\n",
        "# centre_circle = plt.Circle((0,0),0.20,fc='white')\n",
        "# fig = plt.gcf()\n",
        "# fig.gca().add_artist(centre_circle)\n",
        "\n",
        "# Equal aspect ratio ensures that pie is drawn as a circle\n",
        "ax1.axis('equal')  \n",
        "plt.style.use('seaborn-colorblind')\n",
        "plt.show()"
      ],
      "metadata": {
        "id": "x8WskI7D7qur",
        "colab": {
          "base_uri": "https://localhost:8080/"
        },
        "outputId": "86c7c275-afd3-4198-b51b-5f5f580a84b3"
      },
      "execution_count": null,
      "outputs": [
        {
          "output_type": "stream",
          "name": "stderr",
          "text": [
            "/usr/local/lib/python3.7/dist-packages/ipykernel_launcher.py:3: UserWarning: Boolean Series key will be reindexed to match DataFrame index.\n",
            "  This is separate from the ipykernel package so we can avoid doing imports until\n",
            "/usr/local/lib/python3.7/dist-packages/ipykernel_launcher.py:3: UserWarning: Boolean Series key will be reindexed to match DataFrame index.\n",
            "  This is separate from the ipykernel package so we can avoid doing imports until\n"
          ]
        },
        {
          "output_type": "display_data",
          "data": {
            "image/png": "[encoded data removed]",
            "text/plain": [
              "<Figure size 700x560 with 1 Axes>"
            ]
          },
          "metadata": {}
        }
      ]
    },
    {
      "cell_type": "markdown",
      "source": [
        "## Persentase Heart Disease(1) Stroke (0/1)"
      ],
      "metadata": {
        "id": "DtgmIIMvSODz"
      }
    },
    {
      "cell_type": "code",
      "source": [
        "hd=df['heart_disease']==1\n",
        "heart = df[hd]\n",
        "heart"
      ],
      "metadata": {
        "id": "TiECxGNKSVzH",
        "colab": {
          "base_uri": "https://localhost:8080/"
        },
        "outputId": "7f57dff7-14ec-46bf-8e86-84e9aaa7f661"
      },
      "execution_count": null,
      "outputs": [
        {
          "output_type": "execute_result",
          "data": {
            "text/html": [
              "<div>\n",
              "<style scoped>\n",
              "    .dataframe tbody tr th:only-of-type {\n",
              "        vertical-align: middle;\n",
              "    }\n",
              "\n",
              "    .dataframe tbody tr th {\n",
              "        vertical-align: top;\n",
              "    }\n",
              "\n",
              "    .dataframe thead th {\n",
              "        text-align: right;\n",
              "    }\n",
              "</style>\n",
              "<table border=\"1\" class=\"dataframe\">\n",
              "  <thead>\n",
              "    <tr style=\"text-align: right;\">\n",
              "      <th></th>\n",
              "      <th>id</th>\n",
              "      <th>hypertension</th>\n",
              "      <th>heart_disease</th>\n",
              "      <th>avg_glucose_level</th>\n",
              "      <th>bmi</th>\n",
              "      <th>stroke</th>\n",
              "    </tr>\n",
              "  </thead>\n",
              "  <tbody>\n",
              "    <tr>\n",
              "      <th>0</th>\n",
              "      <td>9046</td>\n",
              "      <td>0</td>\n",
              "      <td>1</td>\n",
              "      <td>228.69</td>\n",
              "      <td>36.600000</td>\n",
              "      <td>1</td>\n",
              "    </tr>\n",
              "    <tr>\n",
              "      <th>2</th>\n",
              "      <td>31112</td>\n",
              "      <td>0</td>\n",
              "      <td>1</td>\n",
              "      <td>105.92</td>\n",
              "      <td>32.500000</td>\n",
              "      <td>1</td>\n",
              "    </tr>\n",
              "    <tr>\n",
              "      <th>6</th>\n",
              "      <td>53882</td>\n",
              "      <td>1</td>\n",
              "      <td>1</td>\n",
              "      <td>70.09</td>\n",
              "      <td>27.400000</td>\n",
              "      <td>1</td>\n",
              "    </tr>\n",
              "    <tr>\n",
              "      <th>11</th>\n",
              "      <td>12095</td>\n",
              "      <td>0</td>\n",
              "      <td>1</td>\n",
              "      <td>120.46</td>\n",
              "      <td>36.800000</td>\n",
              "      <td>1</td>\n",
              "    </tr>\n",
              "    <tr>\n",
              "      <th>13</th>\n",
              "      <td>8213</td>\n",
              "      <td>0</td>\n",
              "      <td>1</td>\n",
              "      <td>219.84</td>\n",
              "      <td>28.893237</td>\n",
              "      <td>1</td>\n",
              "    </tr>\n",
              "    <tr>\n",
              "      <th>...</th>\n",
              "      <td>...</td>\n",
              "      <td>...</td>\n",
              "      <td>...</td>\n",
              "      <td>...</td>\n",
              "      <td>...</td>\n",
              "      <td>...</td>\n",
              "    </tr>\n",
              "    <tr>\n",
              "      <th>4855</th>\n",
              "      <td>42563</td>\n",
              "      <td>1</td>\n",
              "      <td>1</td>\n",
              "      <td>231.72</td>\n",
              "      <td>45.700000</td>\n",
              "      <td>0</td>\n",
              "    </tr>\n",
              "    <tr>\n",
              "      <th>4869</th>\n",
              "      <td>72715</td>\n",
              "      <td>0</td>\n",
              "      <td>1</td>\n",
              "      <td>193.80</td>\n",
              "      <td>26.400000</td>\n",
              "      <td>0</td>\n",
              "    </tr>\n",
              "    <tr>\n",
              "      <th>4921</th>\n",
              "      <td>4062</td>\n",
              "      <td>0</td>\n",
              "      <td>1</td>\n",
              "      <td>238.27</td>\n",
              "      <td>28.893237</td>\n",
              "      <td>0</td>\n",
              "    </tr>\n",
              "    <tr>\n",
              "      <th>4986</th>\n",
              "      <td>53697</td>\n",
              "      <td>0</td>\n",
              "      <td>1</td>\n",
              "      <td>225.35</td>\n",
              "      <td>26.500000</td>\n",
              "      <td>0</td>\n",
              "    </tr>\n",
              "    <tr>\n",
              "      <th>5008</th>\n",
              "      <td>48109</td>\n",
              "      <td>0</td>\n",
              "      <td>1</td>\n",
              "      <td>88.51</td>\n",
              "      <td>24.500000</td>\n",
              "      <td>0</td>\n",
              "    </tr>\n",
              "  </tbody>\n",
              "</table>\n",
              "<p>276 rows × 6 columns</p>\n",
              "</div>"
            ],
            "text/plain": [
              "         id  hypertension  heart_disease  avg_glucose_level        bmi  stroke\n",
              "0      9046             0              1             228.69  36.600000       1\n",
              "2     31112             0              1             105.92  32.500000       1\n",
              "6     53882             1              1              70.09  27.400000       1\n",
              "11    12095             0              1             120.46  36.800000       1\n",
              "13     8213             0              1             219.84  28.893237       1\n",
              "...     ...           ...            ...                ...        ...     ...\n",
              "4855  42563             1              1             231.72  45.700000       0\n",
              "4869  72715             0              1             193.80  26.400000       0\n",
              "4921   4062             0              1             238.27  28.893237       0\n",
              "4986  53697             0              1             225.35  26.500000       0\n",
              "5008  48109             0              1              88.51  24.500000       0\n",
              "\n",
              "[276 rows x 6 columns]"
            ]
          },
          "metadata": {},
          "execution_count": 11
        }
      ]
    },
    {
      "cell_type": "code",
      "source": [
        "#data\n",
        "labels = ['STROKE', 'NOT STROKE']\n",
        "sizes = [len(heart[df.stroke == 1]),len(heart[df.stroke == 0])]\n",
        "\n",
        "#colors\n",
        "colors = ['#FF8474','#FFC996']\n",
        "\n",
        "# Set Pie chart\n",
        "fig1, ax1 = plt.subplots(figsize=(10,8), dpi=70)\n",
        "patches, texts, autotexts = ax1.pie(sizes, colors = colors, labels=labels, autopct='%1.2f%%', pctdistance=0.70, startangle=-30, \n",
        "        textprops={\n",
        "        'fontsize' : 13,\n",
        "        'fontweight' : 'bold',\n",
        "        'fontname' : 'Poppins'})\n",
        "for text in texts:\n",
        "    text.set_color('#222831')\n",
        "for autotext in autotexts:\n",
        "    autotext.set_color('#21243D')\n",
        "\n",
        "#tittle\n",
        "plt.suptitle(\"Stroke Throught Hearth Disease\",\n",
        "           fontname='Poppins', fontsize=24, fontweight = 'bold')\n",
        "plt.title(\"Perbandingan antara pengidap penyakit jantung terhadap stroke\",fontname='Poppins', fontsize=14, fontweight = 'normal', color='grey')\n",
        "\n",
        "#legend\n",
        "plt.legend([\"STROKE\", \"NOT STROKE\"], loc= 'upper center', bbox_to_anchor=(0.1, 0.1), frameon=True)\n",
        "\n",
        "#draw circle\n",
        "centre_circle = plt.Circle((0,0),0.40,fc='white')\n",
        "fig = plt.gcf()\n",
        "fig.gca().add_artist(centre_circle)\n",
        "\n",
        "# Equal aspect ratio ensures that pie is drawn as a circle\n",
        "ax1.axis('equal')  \n",
        "plt.style.use('seaborn-colorblind')\n",
        "plt.show()"
      ],
      "metadata": {
        "colab": {
          "base_uri": "https://localhost:8080/"
        },
        "id": "ojUksvPA3_9q",
        "outputId": "300ea549-edbc-4fe8-dd32-f7e7b9b47095"
      },
      "execution_count": null,
      "outputs": [
        {
          "output_type": "stream",
          "name": "stderr",
          "text": [
            "/usr/local/lib/python3.7/dist-packages/ipykernel_launcher.py:3: UserWarning: Boolean Series key will be reindexed to match DataFrame index.\n",
            "  This is separate from the ipykernel package so we can avoid doing imports until\n",
            "/usr/local/lib/python3.7/dist-packages/ipykernel_launcher.py:3: UserWarning: Boolean Series key will be reindexed to match DataFrame index.\n",
            "  This is separate from the ipykernel package so we can avoid doing imports until\n"
          ]
        },
        {
          "output_type": "display_data",
          "data": {
            "image/png": "[encoded data removed]",
            "text/plain": [
              "<Figure size 700x560 with 1 Axes>"
            ]
          },
          "metadata": {}
        }
      ]
    },
    {
      "cell_type": "code",
      "source": [
        "#data\n",
        "labels = ['Heart disease','Not Heart disease']\n",
        "sizes = [len(stroke[df.heart_disease == 1]),len(stroke[df.heart_disease == 0])]\n",
        "\n",
        "#colors\n",
        "colors = ['#FFC947', '#EFF0B6']\n",
        "\n",
        "# Set Pie chart\n",
        "fig1, ax1 = plt.subplots(figsize=(10,8), dpi=70)\n",
        "patches, texts, autotexts = ax1.pie(sizes, colors = colors, labels=labels, autopct='%1.2f%%', pctdistance=0.70, explode=(0, 0.060), startangle=-34, \n",
        "        textprops={\n",
        "        'fontsize' : 13,\n",
        "        'fontweight' : 'bold',\n",
        "        'fontname' : 'Poppins'})\n",
        "for text in texts:\n",
        "    text.set_color('#222831')\n",
        "for autotext in autotexts:\n",
        "    autotext.set_color('#21243D')\n",
        "\n",
        "#tittle\n",
        "plt.suptitle(\"Stroke Based On Heart Disease\",\n",
        "           fontname='Poppins', fontsize=24, fontweight = 'bold')\n",
        "# plt.text(1, 2, 'matplotlib adalah manusia biasa, yang tak sempurna \\ndan kadang salah', horizontalalignment='center',\n",
        "#      verticalalignment='center', transform=ax.transAxes, fontsize=14, fontweight = 'normal', color='#222831')\n",
        "plt.title(\"Perbandingan antara pengidap stroke berdasarkan penyakit jantung\",fontname='Poppins', fontsize=14, fontweight = 'normal', color='grey')\n",
        "\n",
        "#legend\n",
        "plt.legend(['Heart disease','Not Heart disease'], loc= 'upper center', bbox_to_anchor=(0.1, 0.1), frameon=True)\n",
        "\n",
        "#draw circle\n",
        "# centre_circle = plt.Circle((0,0),0.20,fc='white')\n",
        "# fig = plt.gcf()\n",
        "# fig.gca().add_artist(centre_circle)\n",
        "\n",
        "# Equal aspect ratio ensures that pie is drawn as a circle\n",
        "ax1.axis('equal')  \n",
        "plt.style.use('seaborn-colorblind')\n",
        "plt.show()"
      ],
      "metadata": {
        "id": "GfLogTFR5c2L",
        "colab": {
          "base_uri": "https://localhost:8080/"
        },
        "outputId": "f60447f1-ab3d-4fe7-a78f-0c6921f00d34"
      },
      "execution_count": null,
      "outputs": [
        {
          "output_type": "stream",
          "name": "stderr",
          "text": [
            "/usr/local/lib/python3.7/dist-packages/ipykernel_launcher.py:3: UserWarning: Boolean Series key will be reindexed to match DataFrame index.\n",
            "  This is separate from the ipykernel package so we can avoid doing imports until\n",
            "/usr/local/lib/python3.7/dist-packages/ipykernel_launcher.py:3: UserWarning: Boolean Series key will be reindexed to match DataFrame index.\n",
            "  This is separate from the ipykernel package so we can avoid doing imports until\n"
          ]
        },
        {
          "output_type": "display_data",
          "data": {
            "image/png": "[encoded data removed]",
            "text/plain": [
              "<Figure size 700x560 with 1 Axes>"
            ]
          },
          "metadata": {}
        }
      ]
    },
    {
      "cell_type": "markdown",
      "source": [
        "# BOX PLOT"
      ],
      "metadata": {
        "id": "L_laISwfRoTP"
      }
    },
    {
      "cell_type": "markdown",
      "source": [
        "## Glucose level Stroke (1/0)"
      ],
      "metadata": {
        "id": "d8Tuvbiu6DoI"
      }
    },
    {
      "cell_type": "code",
      "source": [
        "box = plt.boxplot(df['avg_glucose_level'])\n",
        "plt.title('Box Plot of Glucose Level')\n",
        "plt.show()"
      ],
      "metadata": {
        "id": "aTKwLOmXpxSn",
        "colab": {
          "base_uri": "https://localhost:8080/",
          "height": 281
        },
        "outputId": "041cffdc-d401-44e6-f5a7-ac9992deef5c"
      },
      "execution_count": null,
      "outputs": [
        {
          "output_type": "display_data",
          "data": {
            "image/png": "[encoded data removed]",
            "text/plain": [
              "<Figure size 432x288 with 1 Axes>"
            ]
          },
          "metadata": {
            "needs_background": "light"
          }
        }
      ]
    },
    {
      "cell_type": "code",
      "source": [
        "avg = df['avg_glucose_level']\n",
        "for key in box:\n",
        "    print(f'{key}: {[item.get_ydata() for item in box[key]]}\\n')"
      ],
      "metadata": {
        "id": "Es7OylTDlI6P",
        "colab": {
          "base_uri": "https://localhost:8080/"
        },
        "outputId": "1434b54e-d647-47e9-df98-b5c92aea9c31"
      },
      "execution_count": null,
      "outputs": [
        {
          "output_type": "stream",
          "name": "stdout",
          "text": [
            "whiskers: [array([77.245, 55.12 ]), array([114.09, 168.68])]\n",
            "\n",
            "caps: [array([55.12, 55.12]), array([168.68, 168.68])]\n",
            "\n",
            "boxes: [array([ 77.245,  77.245, 114.09 , 114.09 ,  77.245])]\n",
            "\n",
            "medians: [array([91.885, 91.885])]\n",
            "\n",
            "fliers: [array([228.69, 202.21, 171.23, 174.12, 186.21, 219.84, 214.09, 191.61,\n",
            "       221.29, 217.08, 193.94, 233.29, 228.7 , 208.3 , 189.84, 195.23,\n",
            "       211.78, 212.08, 196.92, 252.72, 219.72, 213.03, 243.58, 197.54,\n",
            "       196.71, 237.75, 194.99, 180.93, 185.17, 221.58, 179.12, 228.56,\n",
            "       240.09, 226.98, 235.63, 240.59, 190.32, 231.61, 191.82, 224.1 ,\n",
            "       216.94, 259.63, 249.31, 219.91, 200.59, 190.14, 182.99, 206.09,\n",
            "       263.32, 207.28, 194.37, 199.2 , 221.79, 239.07, 169.67, 223.83,\n",
            "       231.56, 221.89, 195.71, 203.87, 185.49, 213.22, 215.94, 209.86,\n",
            "       205.77, 271.74, 200.62, 242.52, 175.29, 208.65, 205.33, 210.4 ,\n",
            "       199.86, 219.73, 250.89, 205.35, 216.58, 184.4 , 199.84, 218.46,\n",
            "       211.06, 197.28, 233.94, 247.51, 210.95, 243.53, 205.84, 198.21,\n",
            "       206.72, 214.45, 190.7 , 203.04, 242.3 , 220.49, 218.46, 216.7 ,\n",
            "       234.58, 235.85, 243.5 , 182.2 , 229.92, 215.6 , 239.64, 200.28,\n",
            "       205.23, 209.58, 210.78, 251.6 , 213.37, 223.36, 178.29, 203.81,\n",
            "       205.26, 211.03, 225.47, 180.63, 227.1 , 201.76, 170.05, 217.3 ,\n",
            "       196.01, 184.15, 198.69, 186.17, 183.45, 210.48, 193.83, 183.34,\n",
            "       247.69, 191.47, 239.82, 189.57, 207.58, 182.86, 215.64, 196.36,\n",
            "       188.11, 205.5 , 204.86, 228.08, 219.53, 219.97, 214.05, 200.49,\n",
            "       240.71, 197.1 , 194.62, 222.21, 250.2 , 173.43, 184.25, 254.6 ,\n",
            "       212.01, 186.45, 189.49, 186.32, 226.7 , 183.1 , 194.04, 237.15,\n",
            "       231.19, 207.32, 207.64, 236.84, 204.63, 232.89, 195.03, 170.95,\n",
            "       227.91, 204.5 , 206.25, 254.63, 246.34, 195.16, 223.68, 229.2 ,\n",
            "       193.22, 204.57, 251.46, 220.52, 195.04, 218.65, 211.49, 224.71,\n",
            "       226.11, 210.94, 230.68, 198.02, 204.17, 267.76, 217.71, 180.76,\n",
            "       239.52, 229.86, 210.96, 195.25, 217.39, 201.25, 197.79, 214.77,\n",
            "       181.23, 189.45, 206.4 , 178.76, 197.58, 199.96, 205.77, 237.21,\n",
            "       246.53, 206.33, 206.98, 227.28, 228.7 , 169.97, 244.28, 251.99,\n",
            "       191.79, 216.88, 222.29, 213.11, 227.51, 201.01, 210.  , 237.58,\n",
            "       207.45, 226.93, 253.16, 238.53, 207.79, 196.2 , 231.76, 216.92,\n",
            "       194.98, 218.54, 183.  , 237.17, 178.33, 197.09, 242.84, 202.66,\n",
            "       216.9 , 210.  , 208.05, 222.6 , 199.14, 191.48, 200.16, 190.4 ,\n",
            "       215.9 , 233.52, 213.54, 188.69, 219.5 , 217.66, 227.16, 209.9 ,\n",
            "       176.48, 211.88, 225.6 , 210.23, 234.82, 230.59, 224.63, 185.71,\n",
            "       208.17, 185.31, 203.04, 187.87, 213.87, 222.85, 198.36, 196.25,\n",
            "       194.53, 204.05, 199.18, 209.26, 217.11, 222.46, 187.52, 237.74,\n",
            "       223.35, 201.07, 208.06, 186.95, 198.24, 229.21, 209.06, 228.42,\n",
            "       212.97, 202.05, 206.25, 231.69, 219.96, 197.69, 199.88, 170.22,\n",
            "       208.78, 222.29, 220.36, 187.88, 191.66, 217.75, 226.88, 186.4 ,\n",
            "       169.49, 203.81, 170.76, 189.44, 249.29, 211.35, 206.59, 196.33,\n",
            "       242.94, 226.75, 185.  , 199.83, 227.81, 240.81, 239.28, 231.5 ,\n",
            "       192.37, 220.47, 196.91, 180.8 , 247.48, 216.  , 219.39, 220.47,\n",
            "       173.96, 198.33, 191.33, 206.52, 216.96, 170.93, 232.81, 207.95,\n",
            "       229.58, 187.22, 227.04, 214.42, 233.71, 216.4 , 266.59, 227.94,\n",
            "       205.  , 203.44, 243.73, 176.25, 200.28, 221.43, 213.38, 192.16,\n",
            "       215.72, 173.14, 202.57, 209.5 , 203.16, 201.45, 206.15, 196.61,\n",
            "       219.92, 231.95, 216.38, 213.33, 172.33, 243.59, 169.43, 183.87,\n",
            "       227.98, 208.2 , 199.42, 190.13, 235.54, 178.89, 227.74, 213.8 ,\n",
            "       250.8 , 217.84, 217.  , 217.4 , 190.92, 182.9 , 255.17, 217.55,\n",
            "       227.96, 231.71, 196.81, 222.66, 223.58, 198.79, 192.39, 233.3 ,\n",
            "       201.38, 236.14, 193.81, 239.95, 170.88, 202.21, 181.3 , 198.79,\n",
            "       202.55, 232.12, 203.57, 230.78, 204.98, 227.89, 216.71, 202.67,\n",
            "       221.8 , 202.38, 215.81, 220.24, 195.61, 267.61, 176.71, 207.62,\n",
            "       201.58, 231.43, 220.26, 211.12, 177.91, 215.33, 212.02, 228.2 ,\n",
            "       260.85, 223.9 , 169.74, 207.96, 176.78, 205.01, 191.78, 214.43,\n",
            "       220.64, 204.77, 248.37, 194.53, 228.92, 227.68, 226.73, 219.17,\n",
            "       215.92, 198.12, 240.86, 263.56, 200.14, 235.45, 207.71, 228.05,\n",
            "       223.14, 174.43, 214.51, 231.31, 238.78, 233.59, 188.13, 205.97,\n",
            "       190.89, 193.87, 214.77, 189.88, 197.11, 192.47, 199.38, 202.98,\n",
            "       198.32, 226.38, 236.79, 219.82, 239.19, 206.62, 216.88, 204.92,\n",
            "       226.84, 234.35, 200.73, 202.51, 218.  , 209.15, 202.66, 196.5 ,\n",
            "       209.5 , 219.81, 205.23, 234.27, 239.21, 196.08, 176.38, 175.74,\n",
            "       193.45, 180.45, 219.38, 173.9 , 217.94, 216.64, 173.97, 208.85,\n",
            "       219.7 , 208.05, 185.28, 198.3 , 206.66, 200.68, 218.6 , 223.26,\n",
            "       172.27, 221.83, 218.1 , 200.46, 217.79, 233.47, 181.23, 200.98,\n",
            "       219.67, 207.6 , 247.97, 231.15, 186.54, 221.06, 212.62, 217.74,\n",
            "       208.99, 197.36, 222.52, 232.64, 207.37, 201.96, 213.43, 248.24,\n",
            "       229.94, 202.06, 253.93, 194.75, 207.84, 228.26, 203.76, 205.78,\n",
            "       179.67, 230.74, 216.19, 200.66, 228.5 , 232.29, 200.91, 236.04,\n",
            "       254.95, 196.58, 189.82, 193.61, 195.74, 221.24, 192.5 , 212.92,\n",
            "       191.94, 247.87, 229.73, 261.67, 256.74, 221.08, 208.39, 227.23,\n",
            "       203.27, 234.5 , 190.67, 197.06, 216.07, 179.14, 203.87, 235.06,\n",
            "       195.43, 200.25, 223.64, 199.78, 176.42, 244.3 , 223.16, 226.28,\n",
            "       172.86, 213.92, 212.19, 200.8 , 222.58, 206.53, 232.78, 187.47,\n",
            "       234.06, 242.62, 174.54, 231.54, 219.8 , 187.99, 234.45, 240.69,\n",
            "       217.57, 234.51, 182.22, 214.73, 208.69, 231.72, 206.53, 193.8 ,\n",
            "       203.01, 177.56, 198.84, 243.52, 238.27, 208.31, 176.34, 211.83,\n",
            "       215.69, 267.6 , 215.07, 225.35, 196.26, 182.52, 212.87, 183.43,\n",
            "       185.27, 206.49, 253.86, 203.36, 175.92, 191.15, 223.78, 211.58,\n",
            "       179.38, 193.88, 174.37])]\n",
            "\n",
            "means: []\n",
            "\n"
          ]
        }
      ]
    },
    {
      "cell_type": "code",
      "source": [
        "[item.get_ydata() for item in box['boxes']]\n",
        "q1 = [round(min(item.get_ydata()), 1) for item in box['boxes']]\n",
        "q3 = [round(max(item.get_ydata()), 1) for item in box['boxes']]\n",
        "print(f'Q1: {q1}\\n'\n",
        "      f'Q3: {q3}')"
      ],
      "metadata": {
        "id": "D2oQSFemoYhX",
        "colab": {
          "base_uri": "https://localhost:8080/"
        },
        "outputId": "19970f1c-1635-4453-8fa5-9b598fa8fb4a"
      },
      "execution_count": null,
      "outputs": [
        {
          "output_type": "stream",
          "name": "stdout",
          "text": [
            "Q1: [77.2]\n",
            "Q3: [114.1]\n"
          ]
        }
      ]
    },
    {
      "cell_type": "code",
      "source": [
        "fliers = [item.get_ydata() for item in box['fliers']]\n",
        "lower_outliers = []\n",
        "upper_outliers = []\n",
        "for i in range(len(fliers)):\n",
        "    lower_outliers_by_box = []\n",
        "    upper_outliers_by_box = []\n",
        "    for outlier in fliers[i]:\n",
        "        if outlier < q1[i]:\n",
        "            lower_outliers_by_box.append(round(outlier, 1))\n",
        "        else:\n",
        "            upper_outliers_by_box.append(round(outlier, 1))\n",
        "    lower_outliers.append(lower_outliers_by_box)\n",
        "    upper_outliers.append(upper_outliers_by_box)\n",
        "print(f'Lower outliers: {lower_outliers}\\n'\n",
        "      f'Upper outliers: {upper_outliers}')\n"
      ],
      "metadata": {
        "id": "qjZbZlT8o4sk",
        "colab": {
          "base_uri": "https://localhost:8080/"
        },
        "outputId": "9874e77e-836b-4da7-f1e2-0deec4daee5a"
      },
      "execution_count": null,
      "outputs": [
        {
          "output_type": "stream",
          "name": "stdout",
          "text": [
            "Lower outliers: [[]]\n",
            "Upper outliers: [[228.7, 202.2, 171.2, 174.1, 186.2, 219.8, 214.1, 191.6, 221.3, 217.1, 193.9, 233.3, 228.7, 208.3, 189.8, 195.2, 211.8, 212.1, 196.9, 252.7, 219.7, 213.0, 243.6, 197.5, 196.7, 237.8, 195.0, 180.9, 185.2, 221.6, 179.1, 228.6, 240.1, 227.0, 235.6, 240.6, 190.3, 231.6, 191.8, 224.1, 216.9, 259.6, 249.3, 219.9, 200.6, 190.1, 183.0, 206.1, 263.3, 207.3, 194.4, 199.2, 221.8, 239.1, 169.7, 223.8, 231.6, 221.9, 195.7, 203.9, 185.5, 213.2, 215.9, 209.9, 205.8, 271.7, 200.6, 242.5, 175.3, 208.6, 205.3, 210.4, 199.9, 219.7, 250.9, 205.4, 216.6, 184.4, 199.8, 218.5, 211.1, 197.3, 233.9, 247.5, 211.0, 243.5, 205.8, 198.2, 206.7, 214.4, 190.7, 203.0, 242.3, 220.5, 218.5, 216.7, 234.6, 235.8, 243.5, 182.2, 229.9, 215.6, 239.6, 200.3, 205.2, 209.6, 210.8, 251.6, 213.4, 223.4, 178.3, 203.8, 205.3, 211.0, 225.5, 180.6, 227.1, 201.8, 170.0, 217.3, 196.0, 184.2, 198.7, 186.2, 183.4, 210.5, 193.8, 183.3, 247.7, 191.5, 239.8, 189.6, 207.6, 182.9, 215.6, 196.4, 188.1, 205.5, 204.9, 228.1, 219.5, 220.0, 214.0, 200.5, 240.7, 197.1, 194.6, 222.2, 250.2, 173.4, 184.2, 254.6, 212.0, 186.4, 189.5, 186.3, 226.7, 183.1, 194.0, 237.2, 231.2, 207.3, 207.6, 236.8, 204.6, 232.9, 195.0, 171.0, 227.9, 204.5, 206.2, 254.6, 246.3, 195.2, 223.7, 229.2, 193.2, 204.6, 251.5, 220.5, 195.0, 218.6, 211.5, 224.7, 226.1, 210.9, 230.7, 198.0, 204.2, 267.8, 217.7, 180.8, 239.5, 229.9, 211.0, 195.2, 217.4, 201.2, 197.8, 214.8, 181.2, 189.4, 206.4, 178.8, 197.6, 200.0, 205.8, 237.2, 246.5, 206.3, 207.0, 227.3, 228.7, 170.0, 244.3, 252.0, 191.8, 216.9, 222.3, 213.1, 227.5, 201.0, 210.0, 237.6, 207.4, 226.9, 253.2, 238.5, 207.8, 196.2, 231.8, 216.9, 195.0, 218.5, 183.0, 237.2, 178.3, 197.1, 242.8, 202.7, 216.9, 210.0, 208.0, 222.6, 199.1, 191.5, 200.2, 190.4, 215.9, 233.5, 213.5, 188.7, 219.5, 217.7, 227.2, 209.9, 176.5, 211.9, 225.6, 210.2, 234.8, 230.6, 224.6, 185.7, 208.2, 185.3, 203.0, 187.9, 213.9, 222.8, 198.4, 196.2, 194.5, 204.0, 199.2, 209.3, 217.1, 222.5, 187.5, 237.7, 223.4, 201.1, 208.1, 187.0, 198.2, 229.2, 209.1, 228.4, 213.0, 202.0, 206.2, 231.7, 220.0, 197.7, 199.9, 170.2, 208.8, 222.3, 220.4, 187.9, 191.7, 217.8, 226.9, 186.4, 169.5, 203.8, 170.8, 189.4, 249.3, 211.4, 206.6, 196.3, 242.9, 226.8, 185.0, 199.8, 227.8, 240.8, 239.3, 231.5, 192.4, 220.5, 196.9, 180.8, 247.5, 216.0, 219.4, 220.5, 174.0, 198.3, 191.3, 206.5, 217.0, 170.9, 232.8, 208.0, 229.6, 187.2, 227.0, 214.4, 233.7, 216.4, 266.6, 227.9, 205.0, 203.4, 243.7, 176.2, 200.3, 221.4, 213.4, 192.2, 215.7, 173.1, 202.6, 209.5, 203.2, 201.4, 206.2, 196.6, 219.9, 232.0, 216.4, 213.3, 172.3, 243.6, 169.4, 183.9, 228.0, 208.2, 199.4, 190.1, 235.5, 178.9, 227.7, 213.8, 250.8, 217.8, 217.0, 217.4, 190.9, 182.9, 255.2, 217.6, 228.0, 231.7, 196.8, 222.7, 223.6, 198.8, 192.4, 233.3, 201.4, 236.1, 193.8, 240.0, 170.9, 202.2, 181.3, 198.8, 202.6, 232.1, 203.6, 230.8, 205.0, 227.9, 216.7, 202.7, 221.8, 202.4, 215.8, 220.2, 195.6, 267.6, 176.7, 207.6, 201.6, 231.4, 220.3, 211.1, 177.9, 215.3, 212.0, 228.2, 260.8, 223.9, 169.7, 208.0, 176.8, 205.0, 191.8, 214.4, 220.6, 204.8, 248.4, 194.5, 228.9, 227.7, 226.7, 219.2, 215.9, 198.1, 240.9, 263.6, 200.1, 235.4, 207.7, 228.0, 223.1, 174.4, 214.5, 231.3, 238.8, 233.6, 188.1, 206.0, 190.9, 193.9, 214.8, 189.9, 197.1, 192.5, 199.4, 203.0, 198.3, 226.4, 236.8, 219.8, 239.2, 206.6, 216.9, 204.9, 226.8, 234.4, 200.7, 202.5, 218.0, 209.2, 202.7, 196.5, 209.5, 219.8, 205.2, 234.3, 239.2, 196.1, 176.4, 175.7, 193.4, 180.4, 219.4, 173.9, 217.9, 216.6, 174.0, 208.8, 219.7, 208.0, 185.3, 198.3, 206.7, 200.7, 218.6, 223.3, 172.3, 221.8, 218.1, 200.5, 217.8, 233.5, 181.2, 201.0, 219.7, 207.6, 248.0, 231.2, 186.5, 221.1, 212.6, 217.7, 209.0, 197.4, 222.5, 232.6, 207.4, 202.0, 213.4, 248.2, 229.9, 202.1, 253.9, 194.8, 207.8, 228.3, 203.8, 205.8, 179.7, 230.7, 216.2, 200.7, 228.5, 232.3, 200.9, 236.0, 255.0, 196.6, 189.8, 193.6, 195.7, 221.2, 192.5, 212.9, 191.9, 247.9, 229.7, 261.7, 256.7, 221.1, 208.4, 227.2, 203.3, 234.5, 190.7, 197.1, 216.1, 179.1, 203.9, 235.1, 195.4, 200.2, 223.6, 199.8, 176.4, 244.3, 223.2, 226.3, 172.9, 213.9, 212.2, 200.8, 222.6, 206.5, 232.8, 187.5, 234.1, 242.6, 174.5, 231.5, 219.8, 188.0, 234.4, 240.7, 217.6, 234.5, 182.2, 214.7, 208.7, 231.7, 206.5, 193.8, 203.0, 177.6, 198.8, 243.5, 238.3, 208.3, 176.3, 211.8, 215.7, 267.6, 215.1, 225.4, 196.3, 182.5, 212.9, 183.4, 185.3, 206.5, 253.9, 203.4, 175.9, 191.2, 223.8, 211.6, 179.4, 193.9, 174.4]]\n"
          ]
        }
      ]
    },
    {
      "cell_type": "code",
      "source": [
        "arr = [228.7, 202.2, 171.2, 174.1, 186.2, 219.8, 214.1, 191.6, 221.3, 217.1, 193.9, 233.3, 228.7, 208.3, 189.8, 195.2, 211.8, 212.1, 196.9, 252.7, 219.7, 213.0, 243.6, 197.5, 196.7, 237.8, 195.0, 180.9, 185.2, 221.6, 179.1, 228.6, 240.1, 227.0, 235.6, 240.6, 190.3, 231.6, 191.8, 224.1, 216.9, 259.6, 249.3, 219.9, 200.6, 190.1, 183.0, 206.1, 263.3, 207.3, 194.4, 199.2, 221.8, 239.1, 169.7, 223.8, 231.6, 221.9, 195.7, 203.9, 185.5, 213.2, 215.9, 209.9, 205.8, 271.7, 200.6, 242.5, 175.3, 208.6, 205.3, 210.4, 199.9, 219.7, 250.9, 205.4, 216.6, 184.4, 199.8, 218.5, 211.1, 197.3, 233.9, 247.5, 211.0, 243.5, 205.8, 198.2, 206.7, 214.4, 190.7, 203.0, 242.3, 220.5, 218.5, 216.7, 234.6, 235.8, 243.5, 182.2, 229.9, 215.6, 239.6, 200.3, 205.2, 209.6, 210.8, 251.6, 213.4, 223.4, 178.3, 203.8, 205.3, 211.0, 225.5, 180.6, 227.1, 201.8, 170.0, 217.3, 196.0, 184.2, 198.7, 186.2, 183.4, 210.5, 193.8, 183.3, 247.7, 191.5, 239.8, 189.6, 207.6, 182.9, 215.6, 196.4, 188.1, 205.5, 204.9, 228.1, 219.5, 220.0, 214.0, 200.5, 240.7, 197.1, 194.6, 222.2, 250.2, 173.4, 184.2, 254.6, 212.0, 186.4, 189.5, 186.3, 226.7, 183.1, 194.0, 237.2, 231.2, 207.3, 207.6, 236.8, 204.6, 232.9, 195.0, 171.0, 227.9, 204.5, 206.2, 254.6, 246.3, 195.2, 223.7, 229.2, 193.2, 204.6, 251.5, 220.5, 195.0, 218.6, 211.5, 224.7, 226.1, 210.9, 230.7, 198.0, 204.2, 267.8, 217.7, 180.8, 239.5, 229.9, 211.0, 195.2, 217.4, 201.2, 197.8, 214.8, 181.2, 189.4, 206.4, 178.8, 197.6, 200.0, 205.8, 237.2, 246.5, 206.3, 207.0, 227.3, 228.7, 170.0, 244.3, 252.0, 191.8, 216.9, 222.3, 213.1, 227.5, 201.0, 210.0, 237.6, 207.4, 226.9, 253.2, 238.5, 207.8, 196.2, 231.8, 216.9, 195.0, 218.5, 183.0, 237.2, 178.3, 197.1, 242.8, 202.7, 216.9, 210.0, 208.0, 222.6, 199.1, 191.5, 200.2, 190.4, 215.9, 233.5, 213.5, 188.7, 219.5, 217.7, 227.2, 209.9, 176.5, 211.9, 225.6, 210.2, 234.8, 230.6, 224.6, 185.7, 208.2, 185.3, 203.0, 187.9, 213.9, 222.8, 198.4, 196.2, 194.5, 204.0, 199.2, 209.3, 217.1, 222.5, 187.5, 237.7, 223.4, 201.1, 208.1, 187.0, 198.2, 229.2, 209.1, 228.4, 213.0, 202.0, 206.2, 231.7, 220.0, 197.7, 199.9, 170.2, 208.8, 222.3, 220.4, 187.9, 191.7, 217.8, 226.9, 186.4, 169.5, 203.8, 170.8, 189.4, 249.3, 211.4, 206.6, 196.3, 242.9, 226.8, 185.0, 199.8, 227.8, 240.8, 239.3, 231.5, 192.4, 220.5, 196.9, 180.8, 247.5, 216.0, 219.4, 220.5, 174.0, 198.3, 191.3, 206.5, 217.0, 170.9, 232.8, 208.0, 229.6, 187.2, 227.0, 214.4, 233.7, 216.4, 266.6, 227.9, 205.0, 203.4, 243.7, 176.2, 200.3, 221.4, 213.4, 192.2, 215.7, 173.1, 202.6, 209.5, 203.2, 201.4, 206.2, 196.6, 219.9, 232.0, 216.4, 213.3, 172.3, 243.6, 169.4, 183.9, 228.0, 208.2, 199.4, 190.1, 235.5, 178.9, 227.7, 213.8, 250.8, 217.8, 217.0, 217.4, 190.9, 182.9, 255.2, 217.6, 228.0, 231.7, 196.8, 222.7, 223.6, 198.8, 192.4, 233.3, 201.4, 236.1, 193.8, 240.0, 170.9, 202.2, 181.3, 198.8, 202.6, 232.1, 203.6, 230.8, 205.0, 227.9, 216.7, 202.7, 221.8, 202.4, 215.8, 220.2, 195.6, 267.6, 176.7, 207.6, 201.6, 231.4, 220.3, 211.1, 177.9, 215.3, 212.0, 228.2, 260.8, 223.9, 169.7, 208.0, 176.8, 205.0, 191.8, 214.4, 220.6, 204.8, 248.4, 194.5, 228.9, 227.7, 226.7, 219.2, 215.9, 198.1, 240.9, 263.6, 200.1, 235.4, 207.7, 228.0, 223.1, 174.4, 214.5, 231.3, 238.8, 233.6, 188.1, 206.0, 190.9, 193.9, 214.8, 189.9, 197.1, 192.5, 199.4, 203.0, 198.3, 226.4, 236.8, 219.8, 239.2, 206.6, 216.9, 204.9, 226.8, 234.4, 200.7, 202.5, 218.0, 209.2, 202.7, 196.5, 209.5, 219.8, 205.2, 234.3, 239.2, 196.1, 176.4, 175.7, 193.4, 180.4, 219.4, 173.9, 217.9, 216.6, 174.0, 208.8, 219.7, 208.0, 185.3, 198.3, 206.7, 200.7, 218.6, 223.3, 172.3, 221.8, 218.1, 200.5, 217.8, 233.5, 181.2, 201.0, 219.7, 207.6, 248.0, 231.2, 186.5, 221.1, 212.6, 217.7, 209.0, 197.4, 222.5, 232.6, 207.4, 202.0, 213.4, 248.2, 229.9, 202.1, 253.9, 194.8, 207.8, 228.3, 203.8, 205.8, 179.7, 230.7, 216.2, 200.7, 228.5, 232.3, 200.9, 236.0, 255.0, 196.6, 189.8, 193.6, 195.7, 221.2, 192.5, 212.9, 191.9, 247.9, 229.7, 261.7, 256.7, 221.1, 208.4, 227.2, 203.3, 234.5, 190.7, 197.1, 216.1, 179.1, 203.9, 235.1, 195.4, 200.2, 223.6, 199.8, 176.4, 244.3, 223.2, 226.3, 172.9, 213.9, 212.2, 200.8, 222.6, 206.5, 232.8, 187.5, 234.1, 242.6, 174.5, 231.5, 219.8, 188.0, 234.4, 240.7, 217.6, 234.5, 182.2, 214.7, 208.7, 231.7, 206.5, 193.8, 203.0, 177.6, 198.8, 243.5, 238.3, 208.3, 176.3, 211.8, 215.7, 267.6, 215.1, 225.4, 196.3, 182.5, 212.9, 183.4, 185.3, 206.5, 253.9, 203.4, 175.9, 191.2, 223.8, 211.6, 179.4, 193.9, 174.4]\n",
        "min(arr)"
      ],
      "metadata": {
        "id": "pDlW9kbRVw9k",
        "colab": {
          "base_uri": "https://localhost:8080/"
        },
        "outputId": "68b520e5-7621-4ee6-fbcc-071eef62c371"
      },
      "execution_count": null,
      "outputs": [
        {
          "output_type": "execute_result",
          "data": {
            "text/plain": [
              "169.4"
            ]
          },
          "metadata": {},
          "execution_count": 18
        }
      ]
    },
    {
      "cell_type": "code",
      "source": [
        "inBox = df['avg_glucose_level']<=169.35\n",
        "\n",
        "outBox = df['avg_glucose_level']>169.35"
      ],
      "metadata": {
        "id": "8_1oYtOyBaPE"
      },
      "execution_count": null,
      "outputs": []
    },
    {
      "cell_type": "code",
      "source": [
        "#data\n",
        "labels = ['Glucose <= 169.35','Glucose > 169.35']\n",
        "sizes = [len(stroke[inBox]),len(stroke[outBox])]\n",
        "\n",
        "#colors\n",
        "colors = ['#F3F0D7', '#D8B384']\n",
        "\n",
        "# Set Pie chart\n",
        "fig1, ax1 = plt.subplots(figsize=(10,8), dpi=70)\n",
        "patches, texts, autotexts = ax1.pie(sizes, colors = colors, labels=labels, autopct='%1.2f%%', pctdistance=0.70, explode=(0, 0.060), startangle= 60, \n",
        "        textprops={\n",
        "        'fontsize' : 13,\n",
        "        'fontweight' : 'bold',\n",
        "        'fontname' : 'Poppins'})\n",
        "for text in texts:\n",
        "    text.set_color('#222831')\n",
        "for autotext in autotexts:\n",
        "    autotext.set_color('#21243D')\n",
        "\n",
        "#tittle\n",
        "plt.suptitle(\"Stroke Based On Glucose Level\",\n",
        "           fontname='Poppins', fontsize=24, fontweight = 'bold')\n",
        "plt.title(\"Perbandingan antara pengidap stroke berdasarkan kadar gula dalam darah\",fontname='Poppins', fontsize=14, fontweight = 'normal', color='grey')\n",
        "\n",
        "#legend\n",
        "plt.legend(['Glucose <= 169.35','Glucose > 169.35'], loc= 'upper center', bbox_to_anchor=(0.1, 0.1), frameon=True)\n",
        "\n",
        "#draw circle\n",
        "# centre_circle = plt.Circle((0,0),0.20,fc='white')\n",
        "# fig = plt.gcf()\n",
        "# fig.gca().add_artist(centre_circle)\n",
        "\n",
        "# Equal aspect ratio ensures that pie is drawn as a circle\n",
        "ax1.axis('equal')  \n",
        "plt.style.use('seaborn-colorblind')\n",
        "plt.show()"
      ],
      "metadata": {
        "colab": {
          "base_uri": "https://localhost:8080/",
          "height": 546
        },
        "id": "Qs6_wDtIB5t6",
        "outputId": "7b9f3c45-c827-4e3e-9ae4-e3e6c249c7c4"
      },
      "execution_count": null,
      "outputs": [
        {
          "output_type": "stream",
          "name": "stderr",
          "text": [
            "/usr/local/lib/python3.7/dist-packages/ipykernel_launcher.py:3: UserWarning: Boolean Series key will be reindexed to match DataFrame index.\n",
            "  This is separate from the ipykernel package so we can avoid doing imports until\n"
          ]
        },
        {
          "output_type": "display_data",
          "data": {
            "image/png": "[encoded data removed]",
            "text/plain": [
              "<Figure size 700x560 with 1 Axes>"
            ]
          },
          "metadata": {}
        }
      ]
    },
    {
      "cell_type": "markdown",
      "source": [
        "## BMI level Stroke (1/0)"
      ],
      "metadata": {
        "id": "r5D-KjsG6x31"
      }
    },
    {
      "cell_type": "code",
      "source": [
        "idx = df[ df['bmi'] == 10.3].index\n",
        "df.drop(idx, inplace = True)"
      ],
      "metadata": {
        "id": "YKEuAB8PrhNY"
      },
      "execution_count": null,
      "outputs": []
    },
    {
      "cell_type": "code",
      "source": [
        "cube = plt.boxplot(df['bmi'])\n",
        "plt.title('Box Plot of BMI Level')\n",
        "plt.show()"
      ],
      "metadata": {
        "colab": {
          "base_uri": "https://localhost:8080/",
          "height": 281
        },
        "id": "o7dJW9JaOkP-",
        "outputId": "7aa3bb11-1a47-4e3d-92a1-44995db4545a"
      },
      "execution_count": null,
      "outputs": [
        {
          "output_type": "display_data",
          "data": {
            "image/png": "[encoded data removed]",
            "text/plain": [
              "<Figure size 432x288 with 1 Axes>"
            ]
          },
          "metadata": {
            "needs_background": "light"
          }
        }
      ]
    },
    {
      "cell_type": "code",
      "source": [
        "avg = df['bmi']\n",
        "for key in cube:\n",
        "    print(f'{key}: {[item.get_ydata() for item in cube[key]]}\\n')"
      ],
      "metadata": {
        "colab": {
          "base_uri": "https://localhost:8080/"
        },
        "id": "zOOXqRI-6sMu",
        "outputId": "1e2afa49-6ccd-47a9-d131-2126b91453ca"
      },
      "execution_count": null,
      "outputs": [
        {
          "output_type": "stream",
          "name": "stdout",
          "text": [
            "whiskers: [array([23.8, 11.3]), array([32.8, 46.2])]\n",
            "\n",
            "caps: [array([11.3, 11.3]), array([46.2, 46.2])]\n",
            "\n",
            "boxes: [array([23.8, 23.8, 32.8, 32.8, 23.8])]\n",
            "\n",
            "medians: [array([28.4, 28.4])]\n",
            "\n",
            "fliers: [array([48.9, 47.5, 56.6, 50.1, 54.6, 60.9, 54.7, 48.2, 64.8, 47.3, 46.5,\n",
            "       46.6, 54.7, 49.8, 60.2, 51. , 51.5, 71.9, 50.2, 47.8, 54.6, 55.7,\n",
            "       55.7, 57.5, 54.2, 52.3, 50.3, 78. , 50.2, 53.4, 55.2, 48.4, 50.6,\n",
            "       49.5, 55. , 54.8, 50.2, 47.5, 52.8, 66.8, 55.1, 48.5, 55.9, 57.3,\n",
            "       49.8, 56. , 51.8, 57.7, 48.9, 49.3, 49.8, 54. , 56.1, 97.6, 53.9,\n",
            "       49.4, 48.5, 49.2, 48.7, 48.9, 53.8, 46.5, 48.8, 52.7, 52.8, 55.7,\n",
            "       53.5, 50.5, 51.9, 63.3, 52.8, 61.2, 48. , 46.8, 50.1, 48.3, 58.1,\n",
            "       49.3, 50.4, 52.7, 48.3, 49.3, 51.9, 53.4, 50.3, 59.7, 47.4, 52.5,\n",
            "       52.9, 54.7, 61.6, 49.9, 53.8, 47.3, 54.3, 47.9, 55. , 50.9, 50.6,\n",
            "       57.2, 64.4, 92. , 50.8, 55.9, 57.9, 47.6, 55.7, 48.8, 57.2, 47.5,\n",
            "       46.4, 46.9, 50.2, 47.1, 48.1, 51.7, 60.9, 47.8, 47.6, 46.3, 54.1,\n",
            "       56.6, 49.5, 47.6, 46.9])]\n",
            "\n",
            "means: []\n",
            "\n"
          ]
        }
      ]
    },
    {
      "cell_type": "code",
      "source": [
        "[item.get_ydata() for item in cube['boxes']]\n",
        "q1 = [round(min(item.get_ydata()), 1) for item in cube['boxes']]\n",
        "q3 = [round(max(item.get_ydata()), 1) for item in cube['boxes']]\n",
        "print(f'Q1: {q1}\\n'\n",
        "      f'Q3: {q3}')"
      ],
      "metadata": {
        "colab": {
          "base_uri": "https://localhost:8080/"
        },
        "id": "v3HCzCMy7K7w",
        "outputId": "85c21fcd-80bf-417d-9472-7e95fc88a313"
      },
      "execution_count": null,
      "outputs": [
        {
          "output_type": "stream",
          "name": "stdout",
          "text": [
            "Q1: [23.8]\n",
            "Q3: [32.8]\n"
          ]
        }
      ]
    },
    {
      "cell_type": "code",
      "source": [
        "fliers = [item.get_ydata() for item in cube['fliers']]\n",
        "lower_outliers = []\n",
        "upper_outliers = []\n",
        "for i in range(len(fliers)):\n",
        "    lower_outliers_by_cube = []\n",
        "    upper_outliers_by_cube = []\n",
        "    for outlier in fliers[i]:\n",
        "        if outlier < q1[i]:\n",
        "            lower_outliers_by_cube.append(round(outlier, 1))\n",
        "        else:\n",
        "            upper_outliers_by_cube.append(round(outlier, 1))\n",
        "    lower_outliers.append(lower_outliers_by_cube)\n",
        "    upper_outliers.append(upper_outliers_by_cube)\n",
        "print(f'Lower outliers: {lower_outliers}\\n'\n",
        "      f'Upper outliers: {upper_outliers}')\n"
      ],
      "metadata": {
        "colab": {
          "base_uri": "https://localhost:8080/"
        },
        "id": "3PcOpiuzMwX-",
        "outputId": "3393811a-bd84-4e76-fdb8-fe465f0f50bf"
      },
      "execution_count": null,
      "outputs": [
        {
          "output_type": "stream",
          "name": "stdout",
          "text": [
            "Lower outliers: [[]]\n",
            "Upper outliers: [[48.9, 47.5, 56.6, 50.1, 54.6, 60.9, 54.7, 48.2, 64.8, 47.3, 46.5, 46.6, 54.7, 49.8, 60.2, 51.0, 51.5, 71.9, 50.2, 47.8, 54.6, 55.7, 55.7, 57.5, 54.2, 52.3, 50.3, 78.0, 50.2, 53.4, 55.2, 48.4, 50.6, 49.5, 55.0, 54.8, 50.2, 47.5, 52.8, 66.8, 55.1, 48.5, 55.9, 57.3, 49.8, 56.0, 51.8, 57.7, 48.9, 49.3, 49.8, 54.0, 56.1, 97.6, 53.9, 49.4, 48.5, 49.2, 48.7, 48.9, 53.8, 46.5, 48.8, 52.7, 52.8, 55.7, 53.5, 50.5, 51.9, 63.3, 52.8, 61.2, 48.0, 46.8, 50.1, 48.3, 58.1, 49.3, 50.4, 52.7, 48.3, 49.3, 51.9, 53.4, 50.3, 59.7, 47.4, 52.5, 52.9, 54.7, 61.6, 49.9, 53.8, 47.3, 54.3, 47.9, 55.0, 50.9, 50.6, 57.2, 64.4, 92.0, 50.8, 55.9, 57.9, 47.6, 55.7, 48.8, 57.2, 47.5, 46.4, 46.9, 50.2, 47.1, 48.1, 51.7, 60.9, 47.8, 47.6, 46.3, 54.1, 56.6, 49.5, 47.6, 46.9]]\n"
          ]
        }
      ]
    },
    {
      "cell_type": "code",
      "source": [
        "BMIup = df['bmi'] > 46.3\n",
        "BMIin= (df['bmi']<= 46.3)"
      ],
      "metadata": {
        "id": "4tlGB1Zen3Pj"
      },
      "execution_count": null,
      "outputs": []
    },
    {
      "cell_type": "code",
      "source": [
        "#data\n",
        "labels = ['BMI<=46,3','BMI > 46.3']\n",
        "sizes = [len(stroke[BMIin]), len(stroke[BMIup])]\n",
        "\n",
        "#colors\n",
        "colors = ['#F3F0D7', '#D8B384']\n",
        "\n",
        "# Set Pie chart\n",
        "fig1, ax1 = plt.subplots(figsize=(10,8), dpi=70)\n",
        "patches, texts, autotexts = ax1.pie(sizes, colors = colors, labels=labels, autopct='%1.2f%%', pctdistance=0.70, explode=(0, 0.060), startangle= 20, \n",
        "        textprops={\n",
        "        'fontsize' : 13,\n",
        "        'fontweight' : 'bold',\n",
        "        'fontname' : 'Poppins'})\n",
        "for text in texts:\n",
        "    text.set_color('#222831')\n",
        "for autotext in autotexts:\n",
        "    autotext.set_color('#21243D')\n",
        "\n",
        "#tittle\n",
        "plt.suptitle(\"Stroke Based On BMI\",\n",
        "           fontname='Poppins', fontsize=24, fontweight = 'bold')\n",
        "plt.title(\"Perbandingan antara pengidap stroke berdasarkan BMI\",fontname='Poppins', fontsize=14, fontweight = 'normal', color='grey')\n",
        "\n",
        "#legend\n",
        "plt.legend(['BMI<=46,3','BMI > 46.3'], loc= 'upper right', bbox_to_anchor=(0.1, 0.1), frameon=True)\n",
        "\n",
        "#draw circle\n",
        "# centre_circle = plt.Circle((0,0),0.20,fc='white')\n",
        "# fig = plt.gcf()\n",
        "# fig.gca().add_artist(centre_circle)\n",
        "\n",
        "# Equal aspect ratio ensures that pie is drawn as a circle\n",
        "ax1.axis('equal')  \n",
        "plt.style.use('seaborn-colorblind')\n",
        "plt.show()"
      ],
      "metadata": {
        "colab": {
          "base_uri": "https://localhost:8080/",
          "height": 546
        },
        "id": "hjdoxN-Z2KB7",
        "outputId": "50113dc9-9355-4c6d-9da0-946b9b7f0dd5"
      },
      "execution_count": null,
      "outputs": [
        {
          "output_type": "stream",
          "name": "stderr",
          "text": [
            "/usr/local/lib/python3.7/dist-packages/ipykernel_launcher.py:3: UserWarning: Boolean Series key will be reindexed to match DataFrame index.\n",
            "  This is separate from the ipykernel package so we can avoid doing imports until\n"
          ]
        },
        {
          "output_type": "display_data",
          "data": {
            "image/png": "[encoded data removed]",
            "text/plain": [
              "<Figure size 700x560 with 1 Axes>"
            ]
          },
          "metadata": {}
        }
      ]
    },
    {
      "cell_type": "code",
      "source": [
        ""
      ],
      "metadata": {
        "id": "SyQL7OJkt1WQ"
      },
      "execution_count": null,
      "outputs": []
    }
  ]
}